{
 "cells": [
  {
   "cell_type": "markdown",
   "metadata": {},
   "source": [
    "Projeto 5: Sistema de Gerenciamento de Pedidos de Restaurante\n",
    " Descrição do Projeto\n",
    " Ogerente de um restaurante quer um sistema para gerenciar os pedidos dos\n",
    " clientes. O sistema deve permitir registrar novos pedidos, atualizar o status dos\n",
    " pedidos, remover pedidos concluídos e visualizar todos os pedidos pendentes e\n",
    " concluídos.\n",
    " Funcionalidades Principais:\n",
    " 1. Registrar Novo Pedido\n",
    " 2. Atualizar Status do Pedido\n",
    " 3. Remover Pedido Concluído\n",
    " 4. Visualizar Pedidos Pendentes e Concluídos\n",
    " 5. Sair do Sistema"
   ]
  },
  {
   "cell_type": "code",
   "execution_count": null,
   "metadata": {},
   "outputs": [],
   "source": [
    "#"
   ]
  }
 ],
 "metadata": {
  "language_info": {
   "name": "python"
  }
 },
 "nbformat": 4,
 "nbformat_minor": 2
}
