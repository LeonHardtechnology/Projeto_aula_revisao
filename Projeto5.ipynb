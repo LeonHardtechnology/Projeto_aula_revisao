{
 "cells": [
  {
   "cell_type": "markdown",
   "metadata": {},
   "source": [
    "Projeto 5: Sistema de Gerenciamento de Pedidos de Restaurante\n",
    " Descrição do Projeto\n",
    " O gerente de um restaurante quer um sistema para gerenciar os pedidos dos\n",
    " clientes. O sistema deve permitir registrar novos pedidos, atualizar o status dos\n",
    " pedidos, remover pedidos concluídos e visualizar todos os pedidos pendentes e\n",
    " concluídos.\n",
    " Funcionalidades Principais:\n",
    " 1. Registrar Novo Pedido\n",
    " 2. Atualizar Status do Pedido\n",
    " 3. Remover Pedido Concluído\n",
    " 4. Visualizar Pedidos Pendentes e Concluídos\n",
    " 5. Sair do Sistema"
   ]
  },
  {
   "cell_type": "code",
   "execution_count": 18,
   "metadata": {},
   "outputs": [
    {
     "name": "stdout",
     "output_type": "stream",
     "text": [
      "\n",
      "Opções:\n",
      "1. Fazer Pedido\n",
      "2. Concluir Pedidos\n",
      "3. Status de Pedidos\n",
      "4. Sair\n",
      "Encerrando o sistema de pedidos.\n"
     ]
    }
   ],
   "source": [
    "#Menu de seleção\n",
    "while True:\n",
    "    print(\"\\nOpções:\")\n",
    "    print(\"1. Fazer Pedido\")\n",
    "    print(\"2. Concluir Pedidos\")\n",
    "    print(\"3. Status de Pedidos\")\n",
    "    print(\"4. Sair\")\n",
    "\n",
    "    opcao = int(input(\"Escolha uma opção: \"))\n",
    "\n",
    "    if opcao == 1:\n",
    "        restaurante.fazer_pedido()\n",
    "    elif opcao == 2:\n",
    "        restaurante.exibir_pedidos()\n",
    "    elif opcao == 3:\n",
    "        restaurante.exibir_pedidos()\n",
    "    elif opcao == 4:\n",
    "        print(\"Encerrando o sistema de pedidos.\")\n",
    "        break\n",
    "    else:\n",
    "        print(\"Opção inválida. Tente novamente.\")"
   ]
  }
 ],
 "metadata": {
  "kernelspec": {
   "display_name": "Python 3",
   "language": "python",
   "name": "python3"
  },
  "language_info": {
   "codemirror_mode": {
    "name": "ipython",
    "version": 3
   },
   "file_extension": ".py",
   "mimetype": "text/x-python",
   "name": "python",
   "nbconvert_exporter": "python",
   "pygments_lexer": "ipython3",
   "version": "3.12.3"
  }
 },
 "nbformat": 4,
 "nbformat_minor": 2
}
