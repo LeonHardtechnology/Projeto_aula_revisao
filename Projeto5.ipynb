{
 "cells": [
  {
   "cell_type": "markdown",
   "metadata": {},
   "source": [
    "Projeto 5: Sistema de Gerenciamento de Pedidos de Restaurante\n",
    " Descrição do Projeto\n",
    " O gerente de um restaurante quer um sistema para gerenciar os pedidos dos\n",
    " clientes. O sistema deve permitir registrar novos pedidos, atualizar o status dos\n",
    " pedidos, remover pedidos concluídos e visualizar todos os pedidos pendentes e\n",
    " concluídos.\n",
    " Funcionalidades Principais:\n",
    " 1. Registrar Novo Pedido\n",
    " 2. Atualizar Status do Pedido\n",
    " 3. Remover Pedido Concluído\n",
    " 4. Visualizar Pedidos Pendentes e Concluídos\n",
    " 5. Sair do Sistema"
   ]
  },
  {
   "cell_type": "markdown",
   "metadata": {},
   "source": [
    "# Menu\n",
    "Entrada=[\"fritas\",\"fritas com queijo\",\"Mandioca\",\"linguiça\",\"torresmo\"]\n",
    "\n",
    "Pratos=[\"Feijoada\",\"Bife\",\"Lasanha\",\"Tropeiro\",\"Frango Assado\"]\n",
    "\n",
    "Sobremesa=[\"Sorvete\",\"Pudim\",\"Brownie\",\"Mousse\",\"Bolo\"]\n",
    "\n",
    "Bebidas=[\"Água\",\"Suco\",\"Refrigerante\",\"Cerveja\",\"Caipirinha\"]\n",
    "\n",
    "# Mesas\n",
    "Mesas=[\"Mesa01\",\"Mesa02\",\"Mesa03\",\"Mesa04\",\"Mesa05\",\"Mesa06\",\"Mesa07\",\"Mesa08\"]\n",
    "\n",
    "# Status\n",
    "status=[\"Pedente\",\"Concluído\"]"
   ]
  },
  {
   "cell_type": "code",
   "execution_count": null,
   "metadata": {},
   "outputs": [],
   "source": [
    "#"
   ]
  }
 ],
 "metadata": {
  "language_info": {
   "name": "python"
  }
 },
 "nbformat": 4,
 "nbformat_minor": 2
}
