{
 "cells": [
  {
   "cell_type": "markdown",
   "metadata": {},
   "source": [
    "Projeto 5: Sistema de Gerenciamento de Pedidos de Restaurante\n",
    " Descrição do Projeto\n",
    " O gerente de um restaurante quer um sistema para gerenciar os pedidos dos\n",
    " clientes. O sistema deve permitir registrar novos pedidos, atualizar o status dos\n",
    " pedidos, remover pedidos concluídos e visualizar todos os pedidos pendentes e\n",
    " concluídos.\n",
    " Funcionalidades Principais:\n",
    " 1. Registrar Novo Pedido\n",
    " 2. Atualizar Status do Pedido\n",
    " 3. Remover Pedido Concluído\n",
    " 4. Visualizar Pedidos Pendentes e Concluídos\n",
    " 5. Sair do Sistema"
   ]
  },
  {
   "cell_type": "code",
   "execution_count": 19,
   "metadata": {},
   "outputs": [
    {
     "name": "stdout",
     "output_type": "stream",
     "text": [
      "\n",
      "Opções:\n",
      "1. Registrar Novo Pedido\n",
      "2. Atualizar Status do Pedido\n",
      "3. Remover Pedido Concluído\n",
      "4. Visualizar Pedidos Pendentes e Concluídos\n",
      "4. Sair do Sistema\n"
     ]
    },
    {
     "ename": "NameError",
     "evalue": "name 'restaurante' is not defined",
     "output_type": "error",
     "traceback": [
      "\u001b[1;31m---------------------------------------------------------------------------\u001b[0m",
      "\u001b[1;31mNameError\u001b[0m                                 Traceback (most recent call last)",
      "Cell \u001b[1;32mIn[19], line 13\u001b[0m\n\u001b[0;32m     10\u001b[0m opcao \u001b[38;5;241m=\u001b[39m \u001b[38;5;28mint\u001b[39m(\u001b[38;5;28minput\u001b[39m(\u001b[38;5;124m\"\u001b[39m\u001b[38;5;124mEscolha uma opção: \u001b[39m\u001b[38;5;124m\"\u001b[39m))\n\u001b[0;32m     12\u001b[0m \u001b[38;5;28;01mif\u001b[39;00m opcao \u001b[38;5;241m==\u001b[39m \u001b[38;5;241m1\u001b[39m:\n\u001b[1;32m---> 13\u001b[0m     \u001b[43mrestaurante\u001b[49m\u001b[38;5;241m.\u001b[39mfazer_pedido()\n\u001b[0;32m     14\u001b[0m \u001b[38;5;28;01melif\u001b[39;00m opcao \u001b[38;5;241m==\u001b[39m \u001b[38;5;241m2\u001b[39m:\n\u001b[0;32m     15\u001b[0m     restaurante\u001b[38;5;241m.\u001b[39mexibir_pedidos()\n",
      "\u001b[1;31mNameError\u001b[0m: name 'restaurante' is not defined"
     ]
    }
   ],
   "source": [
    "#Menu de seleção\n",
    "while True:\n",
    "    print(\"\\nOpções:\")\n",
    "    print(\"1. Registrar Novo Pedido\")\n",
    "    print(\"2. Atualizar Status do Pedido\")\n",
    "    print(\"3. Remover Pedido Concluído\")\n",
    "    print(\"4. Visualizar Pedidos Pendentes e Concluídos\")\n",
    "    print(\"4. Sair do Sistema\")\n",
    "\n",
    "    opcao = int(input(\"Escolha uma opção: \"))\n",
    "\n",
    "    if opcao == 1:\n",
    "        restaurante.fazer_pedido()\n",
    "    elif opcao == 2:\n",
    "        restaurante.exibir_pedidos()\n",
    "    elif opcao == 3:\n",
    "        restaurante.exibir_pedidos()        \n",
    "    elif opcao == 4:\n",
    "        restaurante.exibir_pedidos()\n",
    "    elif opcao == 5:\n",
    "        print(\"Encerrando o sistema de pedidos.\")\n",
    "        break\n",
    "    else:\n",
    "        print(\"Opção inválida. Tente novamente.\")"
   ]
  }
 ],
 "metadata": {
  "kernelspec": {
   "display_name": "Python 3",
   "language": "python",
   "name": "python3"
  },
  "language_info": {
   "codemirror_mode": {
    "name": "ipython",
    "version": 3
   },
   "file_extension": ".py",
   "mimetype": "text/x-python",
   "name": "python",
   "nbconvert_exporter": "python",
   "pygments_lexer": "ipython3",
   "version": "3.12.3"
  }
 },
 "nbformat": 4,
 "nbformat_minor": 2
}
